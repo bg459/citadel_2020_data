{
 "cells": [
  {
   "cell_type": "code",
   "execution_count": 12,
   "metadata": {},
   "outputs": [],
   "source": [
    "#This .py will create a ratings file with only movies that have a minimum number of...\n",
    "#ratings and ratings from users with another minimum\n",
    "\n",
    "#importation of needed files\n",
    "import csv\n",
    "\n",
    "#sets minimums\n",
    "movie_rating_min = 10\n",
    "user_rating_min = 10"
   ]
  },
  {
   "cell_type": "code",
   "execution_count": 14,
   "metadata": {},
   "outputs": [
    {
     "name": "stdout",
     "output_type": "stream",
     "text": [
      "['userId', 'movieId', 'rating', 'timestamp']\n"
     ]
    }
   ],
   "source": [
    "#counts how many reviews there are from each customer and about each movie\n",
    "\n",
    "customer_counts = {}\n",
    "movie_counts = {}\n",
    "\n",
    "rating_count = 0\n",
    "\n",
    "with open('local/movie_lense/ratings.csv','r') as csvfile:\n",
    "    long_file = csv.reader(csvfile)\n",
    "    headers = next(long_file)\n",
    "    print(headers)\n",
    "    for line in long_file:\n",
    "        if int(line[0]) in customer_counts:\n",
    "            customer_counts[int(line[0])] += 1\n",
    "        else:\n",
    "            customer_counts[int(line[0])] = 1\n",
    "\n",
    "        if int(line[1]) in movie_counts:\n",
    "            movie_counts[int(line[1])] += 1\n",
    "        else:\n",
    "            movie_counts[int(line[1])] = 1\n",
    "        rating_count +=1 \n",
    "        \n"
   ]
  },
  {
   "cell_type": "code",
   "execution_count": null,
   "metadata": {},
   "outputs": [],
   "source": [
    "#writes new CSV with ratings iff they meet minimum criteria\n",
    "count = 0\n",
    "with open('local/movie_lense/ratings.csv','r') as csvfile:\n",
    "    long_file = csv.reader(csvfile)\n",
    "    with open('short_ratings.csv','w',newline='') as csvfile2:\n",
    "        short_file = csv.DictWriter(csvfile2, fieldnames=headers)\n",
    "        short_file.writeheader()\n",
    "        next(long_file)\n",
    "        for line in long_file:\n",
    "            if customer_counts[int(line[0])] >= user_rating_min:\n",
    "                if movie_counts[int(line[1])] >= movie_rating_min:\n",
    "                    short_file.writerow({headers[0]: line[0],headers[1]: line[1],headers[2]: line[2],headers[3]: line[3]})"
   ]
  },
  {
   "cell_type": "code",
   "execution_count": null,
   "metadata": {},
   "outputs": [],
   "source": []
  }
 ],
 "metadata": {
  "kernelspec": {
   "display_name": "Python 3",
   "language": "python",
   "name": "python3"
  },
  "language_info": {
   "codemirror_mode": {
    "name": "ipython",
    "version": 3
   },
   "file_extension": ".py",
   "mimetype": "text/x-python",
   "name": "python",
   "nbconvert_exporter": "python",
   "pygments_lexer": "ipython3",
   "version": "3.7.6"
  }
 },
 "nbformat": 4,
 "nbformat_minor": 4
}
